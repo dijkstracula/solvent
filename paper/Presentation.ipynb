{
 "cells": [
  {
   "cell_type": "markdown",
   "id": "4cc34759",
   "metadata": {
    "slideshow": {
     "slide_type": "slide"
    }
   },
   "source": [
    "# Liquid Types, Revisited\n",
    "## Nathan Taylor (ntaylor@cs), Sam Thomas (sgt@cs)\n",
    "\n",
    "### C S 395T: The Model Checking Paradigm, 24 April 2023"
   ]
  },
  {
   "cell_type": "markdown",
   "id": "908a350c",
   "metadata": {
    "slideshow": {
     "slide_type": "slide"
    }
   },
   "source": [
    "# A type paper in a model-checking class?\n",
    "\n",
    "* In this class we've talked about propositions, proofs, counterproofs... does this feel like a different world than the typed programming you know from languages like Java?\n",
    "\n",
    "* TODO Guess what!!! propositions=types, program=proofs, counterproofs=...?? type errors???\n",
    "\n",
    "* Type semantics relates a class of inputs  (all possible valid envioronments) to a class of outputs (all possible instantiations of a type) - feels like abstraction or “modulo”!!!\n",
    "\n",
    "* This means we can use the vocabulary of model-checking in a type context.  This is great because type systems give us lots of nice guarantees: soundness, reconstruction, termination, etc..."
   ]
  },
  {
   "cell_type": "markdown",
   "id": "4da9b1c2",
   "metadata": {
    "slideshow": {
     "slide_type": "slide"
    }
   },
   "source": [
    "## Type systems are great for proving properties of our programs...\n",
    "\n",
    "\n",
    "What well-typed argument can we pass to `avg()` that will cause this program to break?"
   ]
  },
  {
   "cell_type": "code",
   "execution_count": null,
   "id": "8c90002d",
   "metadata": {},
   "outputs": [],
   "source": [
    "def avg(xs):\n",
    "    return sum(xs) // len(xs)\n",
    "\n",
    "assert avg([1,2,3]) == 2\n",
    "assert avg([1]) == 1\n",
    "avg([])"
   ]
  },
  {
   "cell_type": "markdown",
   "id": "0ad2a567",
   "metadata": {
    "slideshow": {
     "slide_type": "slide"
    }
   },
   "source": [
    "## Do well-typed programs never go wrong?\n",
    "\n",
    "Let's annotate our program with types, like good programmers.  The premise of a type system is that it rejects invalid programs: can you think of input to `avg()` that will still cause an exception to be thrown?"
   ]
  },
  {
   "cell_type": "code",
   "execution_count": 42,
   "id": "63f77bc8",
   "metadata": {
    "scrolled": true,
    "slideshow": {
     "slide_type": "-"
    }
   },
   "outputs": [],
   "source": [
    "def avg(xs: list[int]) -> int:\n",
    "    \"\"\" Computes the average of a list of ints.\"\"\"\n",
    "    return sum(xs) // len(xs)\n",
    "\n",
    "assert avg([1,2,3]) == 2\n",
    "assert avg([1]) == 1\n"
   ]
  },
  {
   "cell_type": "markdown",
   "id": "68b72bde",
   "metadata": {
    "slideshow": {
     "slide_type": "slide"
    }
   },
   "source": [
    "## Extending the expressivity of a type system\n",
    "\n",
    "* Somebody in this room once said, \"An abstraction is a constrained proof system\"\n",
    "    * a richer _constraint domain_ in our proof system lets us encode richer abstractions.\n",
    "\n",
    "What sort of constraint domain would let us encode the type of a list that is provably nonempty (and thus avoiding the division by zero exception), while still maintaining:\n",
    "* Automation - no proof\n",
    "* etc\n",
    "\n",
    "---\n",
    "\n",
    "Our goal: \n",
    "```python\n",
    "def avg(l: {some proposition that will reject the empty list} ) -> int:\n",
    "    return sum(l.l) // len(l.l)\n",
    "avg([])      # should produce a type error\n",
    "avg([1,2,3]) # should not produce a type error\n",
    "```"
   ]
  },
  {
   "cell_type": "code",
   "execution_count": null,
   "id": "7b0d436c",
   "metadata": {
    "slideshow": {
     "slide_type": "skip"
    }
   },
   "outputs": [],
   "source": [
    "# Note: this slide imports a bunch of stuff for the peano-indexed Vec example\n",
    "from __future__ import annotations\n",
    "from typing import Any, Generic, TypeVar\n",
    "from dataclasses import dataclass\n",
    "N,T = TypeVar(\"N\", bound=\"Nat\"), TypeVar(\"T\")"
   ]
  },
  {
   "cell_type": "markdown",
   "id": "0feb74d2",
   "metadata": {
    "slideshow": {
     "slide_type": "slide"
    }
   },
   "source": [
    "## Non-solution 1: Keep the proof system; enrich the List type\n",
    "\n",
    "A standard solution is to _index_ the List type with an additional type parameter which represents its length.\n",
    "\n",
    "This means we need an encoding of the numbers _in the type system_, since it's going to be a type argument.\n",
    "\n",
    "(Fun fact: this is exactly what we did in Coq in the first class of grad PL last year)"
   ]
  },
  {
   "cell_type": "code",
   "execution_count": null,
   "id": "47c44a22",
   "metadata": {
    "slideshow": {
     "slide_type": "fragment"
    }
   },
   "outputs": [],
   "source": [
    "# An encoding of the natural numbers, entirely in the type system\n",
    "# (notice the S and Z classes have no fields!)\n",
    "class Nat: pass\n",
    "class Z(Nat): pass              # Z is zero\n",
    "class S(Nat, Generic[N]): pass  # S[N] is the successor of some other nat N"
   ]
  },
  {
   "cell_type": "code",
   "execution_count": null,
   "id": "3b954589",
   "metadata": {
    "slideshow": {
     "slide_type": "fragment"
    }
   },
   "outputs": [],
   "source": [
    "# Note: `Two` and `Four` are typedefs for some subtypes of Nat, not \n",
    "# program-level terms with values we can compute on at runtime!\n",
    "Two: type  = S[S[Z]]\n",
    "Four: type = S[S[Two]]"
   ]
  },
  {
   "cell_type": "markdown",
   "id": "3c9552c7",
   "metadata": {
    "slideshow": {
     "slide_type": "slide"
    }
   },
   "source": [
    "The two constructors `nil` and `cons` enforce the invariant that the typelevel value of `N` always conforms to the length of the list.\n",
    "\n",
    "All the benefits we get from our type system remain!"
   ]
  },
  {
   "cell_type": "code",
   "execution_count": 43,
   "id": "08e81aad",
   "metadata": {},
   "outputs": [],
   "source": [
    "# Here's our vector of N elements, all of type T.\n",
    "@dataclass\n",
    "class Vec(Generic[N,T]):\n",
    "    l: list[T]\n",
    "        \n",
    "def nil() -> Vec[Z, T]: return Vec([])\n",
    "def cons(t: T, l: Vec[N, T]) -> Vec[S[N], T]: return Vec([t] + l.l)\n",
    "\n",
    "# The type system knows the lengths of these lists!\n",
    "empty: Vec[Z, int] = nil()\n",
    "one_three:  Vec[Two, int] = cons(1, cons(3, nil()))"
   ]
  },
  {
   "cell_type": "markdown",
   "id": "494ba305",
   "metadata": {
    "slideshow": {
     "slide_type": "slide"
    }
   },
   "source": [
    "And critically, avg() will statically-reject the empty list (since the type says the length must be the successor of some other Nat; this isn't true for zero!)\n",
    "\n",
    "Unfortunately, the type system wasn't really meant to do this, so the refutation we get back from the proof system is at the wrong level of abstraction, verbose, and not directly relevant to us..."
   ]
  },
  {
   "cell_type": "markdown",
   "id": "28eeb9e0",
   "metadata": {},
   "source": [
    "```python\n",
    "def avg(l: Vec[S[N], int]) -> int:\n",
    "    \"\"\" Computes the average of a nonempty list of ints. \"\"\"\n",
    "    return sum(l.l) // len(l.l)\n",
    "\n",
    "avg(42) # error: # error: Argument of type \"Literal[42]\" cannot be assigned to parameter \"l\" of type \"Vec[S[N@avg], int]\" in function \"avg\"   \"Literal[42]\" is incompatible with \"Vec[S[N@avg], int]\"\n",
    "\n",
    "avg(empty) # error: Argument of type \"Vec[Z, int]\" cannot be assigned to parameter \"l\" of type \"Vec[S[N@avg], int]\" in function \"avg\"; TypeVar \"N@Vec\" is covariant; \"Z\" is incompatible with \"S[N@avg]\"\n",
    "```"
   ]
  },
  {
   "cell_type": "markdown",
   "id": "9a04d948",
   "metadata": {
    "slideshow": {
     "slide_type": "slide"
    }
   },
   "source": [
    "## Non-solution 2: full dependent types\n",
    "\n",
    "Previously, `Vec[N,T]` took two type-level arguments.  We could not parameterize it on a program term of type `int` (if we could, we could have avoided redefining the natural numbers in the type system.)\n",
    "\n",
    "A type system that _does_ allow this is called a _dependent type system_.  \n",
    "\n",
    "```haskell\n",
    "constant vec : Type u → ℕ → Type u\n",
    "\n",
    "-- notice that we can write 0 and (n + 1) directly! \n",
    "constant empty : Π α : Type u, vec α 0\n",
    "constant cons :\n",
    "  Π (α : Type u) (n : ℕ), α → vec α n → vec α (n + 1)\n",
    "```\n",
    "\n",
    "TODO: they are awesome except enjoy writing the proofs"
   ]
  },
  {
   "cell_type": "code",
   "execution_count": null,
   "id": "09dd46a1",
   "metadata": {},
   "outputs": [],
   "source": []
  }
 ],
 "metadata": {
  "celltoolbar": "Slideshow",
  "kernelspec": {
   "display_name": "Python 3 (ipykernel)",
   "language": "python",
   "name": "python3"
  },
  "language_info": {
   "codemirror_mode": {
    "name": "ipython",
    "version": 3
   },
   "file_extension": ".py",
   "mimetype": "text/x-python",
   "name": "python",
   "nbconvert_exporter": "python",
   "pygments_lexer": "ipython3",
   "version": "3.11.2"
  }
 },
 "nbformat": 4,
 "nbformat_minor": 5
}
