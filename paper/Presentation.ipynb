{
 "cells": [
  {
   "cell_type": "code",
   "execution_count": null,
   "id": "7b0d436c",
   "metadata": {
    "slideshow": {
     "slide_type": "slide"
    }
   },
   "outputs": [],
   "source": [
    "# Note: this slide imports a bunch of stuff for the peano-indexed Vec example\n",
    "# Don't forget to run me before starting the presentation!!!\n",
    "from __future__ import annotations\n",
    "from typing import Any, Generic, TypeVar\n",
    "from dataclasses import dataclass\n",
    "N,T = TypeVar(\"N\", bound=\"Nat\"), TypeVar(\"T\")\n",
    "\n",
    "import sys\n",
    "ipython = get_ipython()\n",
    "\n",
    "# If we want to show a type error, don't show the whole stacktrace\n",
    "# (which is hard to interpret in slideshow-form)\n",
    "def hide_traceback(exc_tuple=None, filename=None, tb_offset=None,\n",
    "                   exception_only=False, running_compiled_code=False):\n",
    "    etype, value, tb = sys.exc_info()\n",
    "    value.__cause__ = None  # suppress chained exceptions\n",
    "    return ipython._showtraceback(etype, value, ipython.InteractiveTB.get_exception_only(etype, value))\n",
    "\n",
    "ipython.showtraceback = hide_traceback"
   ]
  },
  {
   "cell_type": "markdown",
   "id": "4cc34759",
   "metadata": {
    "slideshow": {
     "slide_type": "slide"
    }
   },
   "source": [
    "# Liquid Types, Revisited\n",
    "## Nathan Taylor (ntaylor@cs), Sam Thomas (sgt@cs)\n",
    "\n",
    "### C S 395T: The Model Checking Paradigm, 24 April 2023"
   ]
  },
  {
   "cell_type": "markdown",
   "id": "908a350c",
   "metadata": {
    "slideshow": {
     "slide_type": "slide"
    }
   },
   "source": [
    "Type theory is widely adopted in the PL community, and with good reason: We have strong metatheoretic guarantees around:\n",
    "\n",
    "* Soundness: A type system will always reject an invalid program\n",
    "* Automation: A type system (may!) require minimal intervention to execute\n",
    "* Subtyping: Safely substituting one type for another\n",
    "* Termination: Type-theoretic algorithms will always terminate with an answer, usually in small-polynomial time\n"
   ]
  },
  {
   "cell_type": "markdown",
   "id": "2a19371b",
   "metadata": {
    "slideshow": {
     "slide_type": "slide"
    }
   },
   "source": [
    "## A type theory paper in a model-checking class?\n",
    "\n",
    "However...  In this class we've talked about things like propositions, proofs, counterproofs... some might say that this feel like a different world than the typed programming you know from languages like Java?"
   ]
  },
  {
   "cell_type": "markdown",
   "id": "9a5eecae",
   "metadata": {
    "slideshow": {
     "slide_type": "slide"
    }
   },
   "source": [
    "Under the Curry-Howard correspondence, we _know_[^1] that:\n",
    "\n",
    "* a type _is_ a logical proposition;\n",
    "* a well-typed program _is_ a proof of each of its propositions;\n",
    "  * a type error _is_ a counterproof of one or more of its propositions\n",
    "\n",
    "Type semantics relates a class of inputs  (all possible valid envioronments) to a class of outputs (all possible instantiations of a type) - feels like abstraction or “modulo”!!!\n",
    "\n",
    "[^1] At least to a first-order approximation.  Some terms and conditions may apply; see in store for details."
   ]
  },
  {
   "cell_type": "markdown",
   "id": "0ad2a567",
   "metadata": {
    "slideshow": {
     "slide_type": "slide"
    }
   },
   "source": [
    "## Do well-typed programs never go wrong?\n",
    "\n",
    "The point of a type system should be that it rejects invalid programs, but: can you think of input to `avg()` that will still cause an exception to be thrown?"
   ]
  },
  {
   "cell_type": "code",
   "execution_count": null,
   "id": "63f77bc8",
   "metadata": {
    "scrolled": true,
    "slideshow": {
     "slide_type": "-"
    }
   },
   "outputs": [],
   "source": [
    "def avg(xs: list[int]) -> int:\n",
    "    \"\"\" Computes the average of a list of ints.\"\"\"\n",
    "    return sum(xs) // len(xs)\n",
    "\n",
    "assert avg([1,2,3]) == 2\n",
    "assert avg([1]) == 1"
   ]
  },
  {
   "cell_type": "markdown",
   "id": "68b72bde",
   "metadata": {
    "slideshow": {
     "slide_type": "slide"
    }
   },
   "source": [
    "## Extending the expressivity of a type system\n",
    "\n",
    "* Somebody in this room once said, \"An abstraction is a constrained proof system\"\n",
    "    * a richer _constraint domain_ in our proof system lets us encode richer abstractions.\n",
    "    * we may pay a cost for a richer _constraint domain_, however..."
   ]
  },
  {
   "cell_type": "markdown",
   "id": "04916e3d",
   "metadata": {
    "slideshow": {
     "slide_type": "slide"
    }
   },
   "source": [
    "What sort of constraint domain would let us encode the type of a list that is provably nonempty (and thus avoiding the division by zero exception), while still maintaining soundness, automation, and termination?\n",
    "\n",
    "---\n",
    "\n",
    "Our goal: \n",
    "```python\n",
    "def avg(xs: {TODO: proposition that rejects the empty list} ) -> int:\n",
    "    return sum(xs) // len(xs)\n",
    "avg([])      # should produce a type error\n",
    "avg([1,2,3]) # should not produce a type error\n",
    "```"
   ]
  },
  {
   "cell_type": "markdown",
   "id": "0feb74d2",
   "metadata": {
    "slideshow": {
     "slide_type": "slide"
    }
   },
   "source": [
    "## Non-solution 1: Keep the proof system; enrich the List type\n",
    "\n",
    "A standard solution is to _index_ the List type with an additional type parameter which represents its length.\n",
    "\n",
    "This means we need to teach _the type system_ about the natural numbers."
   ]
  },
  {
   "cell_type": "code",
   "execution_count": null,
   "id": "47c44a22",
   "metadata": {
    "slideshow": {
     "slide_type": "fragment"
    }
   },
   "outputs": [],
   "source": [
    "# An encoding of the natural numbers, entirely in the type system\n",
    "# (notice the S and Z classes have no fields!)\n",
    "class Nat: pass\n",
    "class Z(Nat): pass              # The Z type is zero\n",
    "class S(Nat, Generic[N]): pass  # The S<N> type is the successor of some other nat N"
   ]
  },
  {
   "cell_type": "code",
   "execution_count": null,
   "id": "3b954589",
   "metadata": {
    "slideshow": {
     "slide_type": "fragment"
    }
   },
   "outputs": [],
   "source": [
    "# Note: `Two` and `Four` are typedefs for some subtypes of Nat, not \n",
    "# program-level terms with values we can compute on at runtime!\n",
    "Two: type  = S[S[Z]]\n",
    "Four: type = S[S[Two]]"
   ]
  },
  {
   "cell_type": "markdown",
   "id": "3c9552c7",
   "metadata": {
    "slideshow": {
     "slide_type": "slide"
    }
   },
   "source": [
    "The two constructors `nil` and `cons` enforce the invariant that the typelevel value of `N` always conforms to the length of the list.\n",
    "\n",
    "We did this without needing to make the type system more expressive, and the benefits we already get from it remain!"
   ]
  },
  {
   "cell_type": "code",
   "execution_count": null,
   "id": "08e81aad",
   "metadata": {},
   "outputs": [],
   "source": [
    "# Here's our vector of N elements, all of type T.\n",
    "@dataclass\n",
    "class Vec(Generic[N,T]):\n",
    "    l: list[T]\n",
    "        \n",
    "def nil() -> Vec[Z, T]: return Vec([])\n",
    "def cons(t: T, l: Vec[N, T]) -> Vec[S[N], T]: return Vec([t] + l.l)\n",
    "\n",
    "# The type system knows the lengths of these lists!\n",
    "empty: Vec[Z, int] = nil()\n",
    "one_three:  Vec[Two, int] = cons(1, cons(3, nil()))"
   ]
  },
  {
   "cell_type": "markdown",
   "id": "28eeb9e0",
   "metadata": {
    "slideshow": {
     "slide_type": "slide"
    }
   },
   "source": [
    "```python\n",
    "def avg(l: Vec[S[N], int]) -> int:\n",
    "    \"\"\" Produces the average of a vector of ints, whose length\n",
    "    is the successor of some natural number (i.e. greater than 0!)\"\"\"\n",
    "    return sum(l.l) // len(l.l)\n",
    "\n",
    "avg(42)    # E: \"Literal[42]\" is incompatible with \"Vec[S[N@avg], int]\"\n",
    "avg(nil()) # E: TypeVar \"N@Vec\" is covariant; \"Z\" is incompatible with \"S[N@avg]\"\n",
    "avg(cons(1, nil())) # ok, as we'd hope\n",
    "```"
   ]
  },
  {
   "cell_type": "markdown",
   "id": "494ba305",
   "metadata": {
    "slideshow": {
     "slide_type": "fragment"
    }
   },
   "source": [
    "✓ This implementation of `avg` statically rejects the empty list!  This was the point of the exercise."
   ]
  },
  {
   "cell_type": "markdown",
   "id": "7608cd9e",
   "metadata": {
    "slideshow": {
     "slide_type": "fragment"
    }
   },
   "source": [
    "✓ All the existing benefits of our existing type system (soundness, automation, subtyping, termination) apply here, because we haven't made the metatheory more complicated"
   ]
  },
  {
   "cell_type": "markdown",
   "id": "364352f3",
   "metadata": {
    "slideshow": {
     "slide_type": "fragment"
    }
   },
   "source": [
    "✗ However, counterproofs are opaque and difficulty to map back to the original program error."
   ]
  },
  {
   "cell_type": "markdown",
   "id": "9a04d948",
   "metadata": {
    "slideshow": {
     "slide_type": "slide"
    }
   },
   "source": [
    "## Non-solution 2: enrich the proof system; keep the List type\n",
    "\n",
    "Previously, `Vec[N,T]` took two type-level arguments.  We could not parameterize it on a program term of type `int` (if we could, we could have avoided redefining the natural numbers in the type system.)\n",
    "\n",
    "A type system that _does_ allow this is called a _dependent type system_.  "
   ]
  },
  {
   "cell_type": "markdown",
   "id": "67303956",
   "metadata": {
    "slideshow": {
     "slide_type": "fragment"
    }
   },
   "source": [
    "```haskell\n",
    "constant vec : Type u → ℕ → Type u\n",
    "\n",
    "-- notice that we can write 0 and (n + 1) directly! \n",
    "constant empty : Π α : Type u, vec α 0\n",
    "constant cons :\n",
    "  Π (α : Type u) (n : ℕ), α → vec α n → vec α (n + 1)\n",
    "```\n",
    "\n",
    "The tradeoff is the one we expect: a richer type system lets us express more things, may require hand-written lemmas to help the proof system, losing the push-button automation that was so nice in the previous non-solution."
   ]
  },
  {
   "cell_type": "markdown",
   "id": "0c07468e",
   "metadata": {
    "slideshow": {
     "slide_type": "slide"
    }
   },
   "source": [
    "## Non-solution 3: just use a model checker\n",
    "\n",
    "\"At no point is `avg()` passed the empty list\" is a temporal safety property; any number of off-the-shelf tools (SLAM, BLAST, Houdini, etc...) or techniques from class could be leveraged here.  \n",
    "\n"
   ]
  },
  {
   "cell_type": "markdown",
   "id": "fece4282",
   "metadata": {
    "slideshow": {
     "slide_type": "fragment"
    }
   },
   "source": [
    "✓ We've seen that model checking techniques are sound, push-button in their automation, and can scale to non-trivial problems, just like a good typechecker.\n"
   ]
  },
  {
   "cell_type": "markdown",
   "id": "9ae933f6",
   "metadata": {
    "slideshow": {
     "slide_type": "fragment"
    }
   },
   "source": [
    "✓ Since model checking explores program states, it's sensitive to program control flow, leading to a more precise abstraction than a type-based approach."
   ]
  },
  {
   "cell_type": "markdown",
   "id": "0e1c647f",
   "metadata": {
    "slideshow": {
     "slide_type": "fragment"
    }
   },
   "source": [
    "✗ However... as we saw from other presentations, reasoning about inductive data structures (lists, trees, etc...) typically requires quantifiers and/or custom logics.  With types, quantifications are handled via polymorphism and recursive definitions pose no difficulty."
   ]
  },
  {
   "cell_type": "markdown",
   "id": "b2415547",
   "metadata": {
    "slideshow": {
     "slide_type": "slide"
    }
   },
   "source": [
    "## Unifying the non-solutions with _liquid types_\n",
    "\n",
    "A _refinement type_ pairs an ordinary type (the _base type_) with a _refining predicate_:\n",
    "\n",
    "\\begin{equation}\n",
    "\\{v: int\\; | \\; 0 \\leq v\\; ∧\\; v < n\\} \n",
    "\\end{equation}\n",
    "\n",
    "This particular type refines its inhabitants to be between 0 and some in-scope program variable `n`.  `n` is a term, so a refinement type is a dependent type, too!  \n",
    "\n",
    "$v$ is the distinguished _value variable_, referring to whatever term the type is typing."
   ]
  },
  {
   "cell_type": "markdown",
   "id": "cf62dd92",
   "metadata": {
    "slideshow": {
     "slide_type": "slide"
    }
   },
   "source": [
    "### If predicates are drawn from _SMT-decidable theories_, then we have a _logically-qualified (LiQuid) type system_."
   ]
  },
  {
   "cell_type": "markdown",
   "id": "2b695195",
   "metadata": {
    "slideshow": {
     "slide_type": "fragment"
    }
   },
   "source": [
    "```python\n",
    "@solvent.check\n",
    "def avg(xs: {len(V) > 0}) -> int\n",
    "    return sum(xs) // len(xs)\n",
    "avg(42) # Type-checking error\n",
    "avg([]) # Type-checking error\n",
    "```\n",
    "\n",
    "In this talk, we will eludcidate the liquid type technique by way of our implementation of liquid types for Python (See https://github.com/dijkstracula/solvent)"
   ]
  },
  {
   "cell_type": "markdown",
   "id": "6e569938",
   "metadata": {
    "slideshow": {
     "slide_type": "slide"
    }
   },
   "source": [
    "Two classes of type meta-algorithms:\n",
    "\n",
    "* Type _checking_: Verifies that a program fragment _annotated_ with types is consistent within the theory\n",
    "* Type _reconstruction_: Given a program fragment _unannotated_ with types, infer a consistent set of types\n",
    "  * generally the harder problem since it requires coming up with a consistent type, not just verifying it\n",
    "\n",
    "Naturally, reconstruction is the problem this paper is interested in, setting the bar high!"
   ]
  },
  {
   "cell_type": "markdown",
   "id": "ede12727",
   "metadata": {
    "slideshow": {
     "slide_type": "slide"
    }
   },
   "source": [
    "## Reconstruction of a liquid type...\n",
    "\n",
    "\\begin{equation}\n",
    "\\{v: \\text{<base type>} \\;|\\; \\text{<predicate>} \\wedge \\text{<predicate>} \\wedge \\text{...} \\} \n",
    "\\end{equation}\n",
    "    \n",
    "Involves decomposing the problem into reconstructing the base type and the refinements: for each term to be typed, we perform:\n",
    "    \n",
    "1) Base type inference, using the venerable Hindley-Milner algorithm;\n",
    "2) Liquid constraint generation, capturing subtyping relationships that must be satisfied;\n",
    "3) Liquid constraint solving, finding a \"good\" conjunction of predicates that satisifies the constraints.\n",
    "    \n",
    "The key insight of the paper comes up at step 3!"
   ]
  },
  {
   "cell_type": "markdown",
   "id": "2ffd667b",
   "metadata": {
    "slideshow": {
     "slide_type": "slide"
    }
   },
   "source": [
    "## Which base type to reconstruct?\n",
    "\n",
    "```python\n",
    "def max(x: T1, y: T2) -> T3:\n",
    "    if x > y:\n",
    "        return x\n",
    "    else:\n",
    "        return y\n",
    "```\n",
    "\n",
    "We'll begin by assigning _abstract constraint variables_ for each of the program terms, and then _unifying_ those constraints."
   ]
  },
  {
   "cell_type": "markdown",
   "id": "9ee9f390",
   "metadata": {
    "slideshow": {
     "slide_type": "fragment"
    }
   },
   "source": [
    "Intuitively: \n",
    "* Because `x` and `y` are used in an arthmetic context, their types need to be `int`s (or subtypes of `int`).\n",
    "* Because the return type `T3` is derived from `x` or `y`, it needs to be an `int` (or a superclass of `int`).\n",
    "\n",
    "TODO: sammy please confirm your dyslexic pal nathan did not mess this up"
   ]
  },
  {
   "cell_type": "markdown",
   "id": "3b9905e4",
   "metadata": {
    "slideshow": {
     "slide_type": "slide"
    }
   },
   "source": [
    "A fascinating property of constraint-based typechecking is that we are guaranteed to get the most general type assignments - unification will never overfit to the constraint data.  So, not only do we get proofs for free, we get _the best_ proofs for free!"
   ]
  },
  {
   "cell_type": "code",
   "execution_count": 2,
   "id": "2e3a5c26",
   "metadata": {
    "scrolled": true,
    "slideshow": {
     "slide_type": "-"
    }
   },
   "outputs": [
    {
     "name": "stdout",
     "output_type": "stream",
     "text": [
      "Function: max\n",
      "  Constraints:\n",
      "    bool = bool\n",
      "    'x4 <: 'ifRes6\n",
      "    'y5 <: 'ifRes6\n",
      "    'x4 <: int\n",
      "    'y5 <: int\n",
      "  Ununified type: ('x4, 'y5) -> 'ifRes6\n",
      "  Solution:\n",
      "    'ifRes6 := int\n",
      "    'y5 := 'ifRes6\n",
      "    'x4 := 'ifRes6\n",
      "  Reconstructed base type: (int, int) -> int\n"
     ]
    }
   ],
   "source": [
    "from solvent.frontend import *\n",
    "\n",
    "@infer_base\n",
    "def max(x, y):\n",
    "    if x > y:\n",
    "        return x\n",
    "    else:\n",
    "        return y"
   ]
  },
  {
   "cell_type": "markdown",
   "id": "113c589f",
   "metadata": {
    "slideshow": {
     "slide_type": "slide"
    }
   },
   "source": [
    "## Which logical constraints to reconstruct?\n",
    "\n",
    "```python\n",
    "def max(x: int, y: int) -> int:\n",
    "    if x > y:\n",
    "        return x\n",
    "    else:\n",
    "        return y\n",
    "```\n",
    "\n",
    "Now that we have our base types figured out, we turn to infering refinement predicates.\n",
    "\n",
    "What logical facts can we say about each particular int in this program?"
   ]
  },
  {
   "cell_type": "markdown",
   "id": "d64d1c07",
   "metadata": {
    "slideshow": {
     "slide_type": "slide"
    }
   },
   "source": [
    "## Which refinement predicate to reconstruct?\n",
    "\n",
    "```python\n",
    "def max(x: int, y: int) -> { V: int | TODO: erm...what predicate should be chosen }\n",
    "    if x > y:\n",
    "        return x\n",
    "    else:\n",
    "        return y\n",
    "print(max(42, 99))\n",
    "```"
   ]
  },
  {
   "cell_type": "markdown",
   "id": "6be5616e",
   "metadata": {
    "slideshow": {
     "slide_type": "fragment"
    }
   },
   "source": [
    "\\begin{equation}\n",
    "\\{v: int \\;|\\; true\\}  \\text{...probably too underspecified!}\n",
    "\\end{equation} "
   ]
  },
  {
   "cell_type": "markdown",
   "id": "83221796",
   "metadata": {
    "slideshow": {
     "slide_type": "fragment"
    }
   },
   "source": [
    "\\begin{equation}\n",
    "\\begin{split}\n",
    "\\{v: int \\;|\\; v >= x\\; \\wedge \\; v >= y\\}\\; & \\text{...seems like a good choice!} \\\\\n",
    "\\{v: int \\;|\\; v = x\\; \\vee \\; v = y\\}\\; & \\text{...overfits a bit!}\n",
    "\\end{split}\n",
    "\\end{equation}"
   ]
  },
  {
   "cell_type": "markdown",
   "id": "91bc1f82",
   "metadata": {
    "slideshow": {
     "slide_type": "fragment"
    }
   },
   "source": [
    "\\begin{equation}\n",
    "\\{v: int \\;|\\; v = 99\\} \\text{... certainly way too overspecified!}\n",
    "\\end{equation}"
   ]
  },
  {
   "cell_type": "markdown",
   "id": "6fe4ba62",
   "metadata": {
    "slideshow": {
     "slide_type": "slide"
    }
   },
   "source": [
    "## Which logical constraints to reconstruct?\n",
    "\n",
    "```python\n",
    "def max(x: {int | K1}, y: {int | K2}) -> {int | K3}:\n",
    "    if x > y:\n",
    "        return x\n",
    "    else:\n",
    "        return y\n",
    "```\n",
    "\n",
    "We begin by lifting our base types into refinement types.  These predicates will, just like with base type inference, begin as abstract constraints that we'll figure out by processing the function."
   ]
  },
  {
   "cell_type": "markdown",
   "id": "80a3a0d7",
   "metadata": {
    "slideshow": {
     "slide_type": "fragment"
    }
   },
   "source": [
    "There are two kinds of ways that we can constrain $K_1$, $K_2$, and $K_3$:\n",
    "\n",
    "* A _scope constraint_ is a constraint that depends on program terms that are in scope at the type definition point.\n",
    "* A _flow constraint_ is a constraint that depends on how we might flow through the control flow graph. "
   ]
  },
  {
   "cell_type": "markdown",
   "id": "f3f1f6ca",
   "metadata": {
    "slideshow": {
     "slide_type": "slide"
    }
   },
   "source": [
    "## What scope constraints do we have?\n",
    "\n",
    "```python\n",
    "def max(x: {int | K1}, y: {int | K2}) -> {int | K3}:\n",
    "    if x > y:\n",
    "        return x\n",
    "    else:\n",
    "        return y\n",
    "```"
   ]
  },
  {
   "cell_type": "markdown",
   "id": "7dfd1996",
   "metadata": {
    "slideshow": {
     "slide_type": "fragment"
    }
   },
   "source": [
    "Nothing's in scope for $K_1$ and $K_2$, so their typing contexts (e.g. to the left of the $\\vdash$) are empty.\n",
    "\n",
    "\\begin{equation}\n",
    "\\begin{split}\n",
    "& \\; \\vdash \\; K_1 \\\\\n",
    "& \\; \\vdash \\; K_2\n",
    "\\end{split}\n",
    "\\end{equation}"
   ]
  },
  {
   "cell_type": "markdown",
   "id": "af2f8b4e",
   "metadata": {
    "slideshow": {
     "slide_type": "fragment"
    }
   },
   "source": [
    "By contrast, because `x` and `y` are in scope for the function body, their types can potentially affect $K_3$, so they appear in its context.\n",
    "\n",
    "\\begin{equation}\n",
    "\\begin{split}\n",
    "x:\\text{int}; \\, y:\\text{int} & \\; \\vdash \\; K_3 \\\\\n",
    "\\end{split}\n",
    "\\end{equation}"
   ]
  },
  {
   "cell_type": "markdown",
   "id": "ae1ac707",
   "metadata": {
    "slideshow": {
     "slide_type": "slide"
    }
   },
   "source": [
    "## What _flow_ constraints do we have?\n",
    "\n",
    "```python\n",
    "def max(x: {int | K1}, y: {int | K2}) -> {int | K3}:\n",
    "    if x > y:\n",
    "        return x\n",
    "    else:\n",
    "        return y\n",
    "```\n",
    "\n",
    "As with before, $K_3$ is the interesting one, because its type depends on both arms of the `if` statement here.  $K_3$ is the _join_ of whatever types $K_1$ and $K_2$ turn out to be."
   ]
  },
  {
   "cell_type": "markdown",
   "id": "d814acac",
   "metadata": {
    "slideshow": {
     "slide_type": "slide"
    }
   },
   "source": [
    "## What _flow_ constraints do we have?\n",
    "\n",
    "```python\n",
    "def max(x: {int | K1}, y: {int | K2}) -> {int | K3}:\n",
    "    if x > y:\n",
    "        return x # Along this path, we know that { int | V == x } is a subtype of K3!\n",
    "    else:\n",
    "        return y\n",
    "```\n",
    "\n",
    "\\begin{equation}\n",
    "\\begin{split}\n",
    "x:\\text{int}; \\, y:\\text{int}; \\, (x > y) & \\; \\vdash \\; \\{ int \\;|\\; V = x \\} <: K_3 \\\\\n",
    "\\\\\n",
    "\\end{split}\n",
    "\\end{equation}"
   ]
  },
  {
   "cell_type": "markdown",
   "id": "a946b1f9",
   "metadata": {
    "slideshow": {
     "slide_type": "slide"
    }
   },
   "source": [
    "## What _flow_ constraints do we have?\n",
    "\n",
    "```python\n",
    "def max(x: {int | K1}, y: {int | K2}) -> {int | K3}:\n",
    "    if x > y:\n",
    "        return x \n",
    "    else:\n",
    "        return y ## Along this path, we know that { int | V == y } is a subtype of K3!\n",
    "```\n",
    "\n",
    "\\begin{equation}\n",
    "\\begin{split}\n",
    "x:\\text{int}; \\, y:\\text{int}; \\, (x > y) & \\; \\vdash \\; \\{ int \\;|\\; V = x \\} <: K_3 \\\\\n",
    "x:\\text{int}; \\, y:\\text{int}; \\, (x \\leq y) & \\; \\vdash \\; \\{ int \\;|\\; V = y \\} <: K_3\n",
    "\\end{split}\n",
    "\\end{equation}"
   ]
  },
  {
   "cell_type": "code",
   "execution_count": 1,
   "id": "d4a8c92e",
   "metadata": {
    "slideshow": {
     "slide_type": "slide"
    }
   },
   "outputs": [
    {
     "name": "stdout",
     "output_type": "stream",
     "text": [
      "Function: max\n",
      "  Constraints:\n",
      "    { 'x1 | V == x } <: 'ifRes3\n",
      "    { 'y2 | V == y } <: 'ifRes3\n"
     ]
    }
   ],
   "source": [
    "from solvent.frontend import *\n",
    "\n",
    "@infer_constraints\n",
    "def max(x, y):\n",
    "    if x > y:\n",
    "        return x\n",
    "    else:\n",
    "        return y"
   ]
  },
  {
   "cell_type": "markdown",
   "id": "b6698f8a",
   "metadata": {
    "slideshow": {
     "slide_type": "slide"
    }
   },
   "source": [
    "By analyzing all possible control flows through the function, we've found two subtypes of the function's return type.\n",
    "\n",
    "\\begin{equation}\n",
    "\\begin{split}\n",
    "x:\\text{int}; \\, y:\\text{int}; \\, (x > y) & \\; \\vdash \\; \\{ int \\;|\\; V = x \\} <: K_3 \\\\\n",
    "x:\\text{int}; \\, y:\\text{int}; \\, (x \\leq y) & \\; \\vdash \\; \\{ int \\;|\\; V = y \\} <: K_3\n",
    "\\end{split}\n",
    "\\end{equation}\n",
    "\n",
    "We _could_ take our two subtypes and construct a disjunction out of them in order to come up with a type for $K_3$ - in fact, this was one of the types we proposed a moment ago!\n",
    "\n",
    "\\begin{equation}\n",
    "\\begin{split}\n",
    "x:\\text{int}; \\, y:\\text{int}; \\, (x > y) & \\; \\vdash \\; \\{ int \\;|\\; V = x \\vee V = y \\} <: K_3 \\\\\n",
    "\\end{split}\n",
    "\\end{equation}\n",
    "\n",
    "However, while _technically correct_, this type isn't as general as we'd like.  "
   ]
  },
  {
   "cell_type": "markdown",
   "id": "892d42fb",
   "metadata": {
    "slideshow": {
     "slide_type": "slide"
    }
   },
   "source": [
    "## Drawing from a fixed set of qualifiers\n",
    "\n",
    "Because there are any number of possible qualifiers, a liquid type system _fixes_ a \"basis set\" of logical qualifiers patterns that predicates can be generated from.  The paper's worked examples requires only a small subset of the full set:\n",
    "\n",
    "\\begin{equation}\n",
    "\\begin{split}\n",
    "0 & \\leq v & \\\\\n",
    "\\star & \\leq v   \\; & \\text{for $\\star$ : int}     \\\\\n",
    "v & \\lt \\star     \\; & \\text{for $\\star$ : int}    \\\\\n",
    "v & \\lt len(\\star) \\; & \\text{for $\\star$ : array} \\\\\n",
    "\\end{split}\n",
    "\\end{equation}\n",
    "\n",
    "Recall that $v$ is the distinguished _value variable_, referring to whatever term the type is typing.\n",
    "\n",
    "$\\star$ is a special _placeholder_ that well-typed program terms can be substituted in for."
   ]
  },
  {
   "cell_type": "markdown",
   "id": "fc4ce554",
   "metadata": {
    "slideshow": {
     "slide_type": "slide"
    }
   },
   "source": [
    "Something _not_ discussed in the paper is that these qualifiers can be overriden by the programmer based on what qualifiers they expect to be useful for their program.  \n",
    "\n",
    "For instance, the liquid type `Vec` implementation comes with an additional set of qualifiers, written by the implementer of the data structure:\n",
    "\n",
    "```ocaml\n",
    "(* a portion of ./postests/vec/len.hquals, simplified *)\n",
    "qualif LVAR(v): len(v) [<, =, >] *\n",
    "qualif LCONST(v): len(v) [<, =, >]  [0, 1]\n",
    "qualif SETAPPEND(v): len(v) = (len(v) > * ? len(v) : * + 1)\n",
    "qualif LSUM(v) : len(v) = [0, 1] + len( * ) + len( * )\n",
    "qualif TOARR(v): len( * ) = Array.length v\n",
    "```\n"
   ]
  },
  {
   "cell_type": "markdown",
   "id": "d40d8691",
   "metadata": {
    "slideshow": {
     "slide_type": "fragment"
    }
   },
   "source": [
    "* both the type system implementer, and the application programmer, can _bias_ the inferred types.  \n",
    "* Because the set of qualifiers is always finite, we have constraint generation termination guarantees."
   ]
  },
  {
   "cell_type": "markdown",
   "id": "e1187a91",
   "metadata": {
    "slideshow": {
     "slide_type": "slide"
    }
   },
   "source": [
    "## Predicate abstraction to the rescue\n",
    "\n",
    "\\begin{equation}\n",
    "\\begin{split}\n",
    "0 & \\leq v & \\\\\n",
    "\\star & \\leq v   \\; & \\text{for $\\star$ : int}     \\\\\n",
    "v & \\lt \\star     \\; & \\text{for $\\star$ : int}    \\\\\n",
    "v & \\lt len(\\star) \\; & \\text{for $\\star$ : array} \\\\\n",
    "\\end{split}\n",
    "\\end{equation}"
   ]
  },
  {
   "cell_type": "code",
   "execution_count": null,
   "id": "59fabfdc",
   "metadata": {
    "scrolled": true
   },
   "outputs": [],
   "source": []
  }
 ],
 "metadata": {
  "celltoolbar": "Slideshow",
  "kernelspec": {
   "display_name": "Python 3 (ipykernel)",
   "language": "python",
   "name": "python3"
  },
  "language_info": {
   "codemirror_mode": {
    "name": "ipython",
    "version": 3
   },
   "file_extension": ".py",
   "mimetype": "text/x-python",
   "name": "python",
   "nbconvert_exporter": "python",
   "pygments_lexer": "ipython3",
   "version": "3.11.2"
  }
 },
 "nbformat": 4,
 "nbformat_minor": 5
}
