{
 "cells": [
  {
   "cell_type": "code",
   "execution_count": 11,
   "id": "7b0d436c",
   "metadata": {
    "slideshow": {
     "slide_type": "slide"
    }
   },
   "outputs": [],
   "source": [
    "# Note: this slide imports a bunch of stuff for the peano-indexed Vec example\n",
    "# Don't forget to run me before starting the presentation!!!\n",
    "from __future__ import annotations\n",
    "from typing import Any, Generic, TypeVar\n",
    "from dataclasses import dataclass\n",
    "N,T = TypeVar(\"N\", bound=\"Nat\"), TypeVar(\"T\")"
   ]
  },
  {
   "cell_type": "markdown",
   "id": "4cc34759",
   "metadata": {
    "slideshow": {
     "slide_type": "slide"
    }
   },
   "source": [
    "# Liquid Types, Revisited\n",
    "## Nathan Taylor (ntaylor@cs), Sam Thomas (sgt@cs)\n",
    "\n",
    "### C S 395T: The Model Checking Paradigm, 24 April 2023"
   ]
  },
  {
   "cell_type": "markdown",
   "id": "908a350c",
   "metadata": {
    "slideshow": {
     "slide_type": "slide"
    }
   },
   "source": [
    "Type theory is widely adopted in the PL community, and with good reason: We have strong metatheoretic guarantees around:\n",
    "\n",
    "* Soundness: A type system will always reject an invalid program\n",
    "* Automation: A type system (may!) require minimal intervention to execute\n",
    "* Subtyping: Safely substituting one type for another\n",
    "* Termination: Type-theoretic algorithms will always terminate with an answer, usually in small-polynomial time\n"
   ]
  },
  {
   "cell_type": "markdown",
   "id": "2a19371b",
   "metadata": {
    "slideshow": {
     "slide_type": "slide"
    }
   },
   "source": [
    "## A type theory paper in a model-checking class?\n",
    "\n",
    "However...  In this class we've talked about things like propositions, proofs, counterproofs... some might say that this feel like a different world than the typed programming you know from languages like Java?"
   ]
  },
  {
   "cell_type": "markdown",
   "id": "9a5eecae",
   "metadata": {
    "slideshow": {
     "slide_type": "slide"
    }
   },
   "source": [
    "Under the Curry-Howard correspondence, we _know_[^1] that:\n",
    "\n",
    "* a type _is_ a logical proposition;\n",
    "* a well-typed program _is_ a proof of each of its propositions;\n",
    "  * a type error _is_ a counterproof of one or more of its propositions\n",
    "\n",
    "Type semantics relates a class of inputs  (all possible valid envioronments) to a class of outputs (all possible instantiations of a type) - feels like abstraction or “modulo”!!!\n",
    "\n",
    "[^1] At least to a first-order approximation.  Some terms and conditions may apply; see in store for details."
   ]
  },
  {
   "cell_type": "markdown",
   "id": "0ad2a567",
   "metadata": {
    "slideshow": {
     "slide_type": "slide"
    }
   },
   "source": [
    "## Do well-typed programs never go wrong?\n",
    "\n",
    "The point of a type system should be that it rejects invalid programs, but: can you think of input to `avg()` that will still cause an exception to be thrown?"
   ]
  },
  {
   "cell_type": "code",
   "execution_count": 3,
   "id": "63f77bc8",
   "metadata": {
    "scrolled": true,
    "slideshow": {
     "slide_type": "-"
    }
   },
   "outputs": [],
   "source": [
    "def avg(xs: list[int]) -> int:\n",
    "    \"\"\" Computes the average of a list of ints.\"\"\"\n",
    "    return sum(xs) // len(xs)\n",
    "\n",
    "assert avg([1,2,3]) == 2\n",
    "assert avg([1]) == 1\n"
   ]
  },
  {
   "cell_type": "markdown",
   "id": "68b72bde",
   "metadata": {
    "slideshow": {
     "slide_type": "slide"
    }
   },
   "source": [
    "## Extending the expressivity of a type system\n",
    "\n",
    "* Somebody in this room once said, \"An abstraction is a constrained proof system\"\n",
    "    * a richer _constraint domain_ in our proof system lets us encode richer abstractions.\n",
    "    * we may pay a cost for a richer _constraint domain_, however..."
   ]
  },
  {
   "cell_type": "markdown",
   "id": "04916e3d",
   "metadata": {
    "slideshow": {
     "slide_type": "slide"
    }
   },
   "source": [
    "What sort of constraint domain would let us encode the type of a list that is provably nonempty (and thus avoiding the division by zero exception), while still maintaining soundness, automation, and termination?\n",
    "\n",
    "---\n",
    "\n",
    "Our goal: \n",
    "```python\n",
    "def avg(xs: {TODO: proposition that rejects the empty list} ) -> int:\n",
    "    return sum(xs) // len(xs)\n",
    "avg([])      # should produce a type error\n",
    "avg([1,2,3]) # should not produce a type error\n",
    "```"
   ]
  },
  {
   "cell_type": "markdown",
   "id": "0feb74d2",
   "metadata": {
    "slideshow": {
     "slide_type": "slide"
    }
   },
   "source": [
    "## Non-solution 1: Keep the proof system; enrich the List type\n",
    "\n",
    "A standard solution is to _index_ the List type with an additional type parameter which represents its length.\n",
    "\n",
    "This means we need to teach _the type system_ about the natural numbers."
   ]
  },
  {
   "cell_type": "code",
   "execution_count": 6,
   "id": "47c44a22",
   "metadata": {
    "slideshow": {
     "slide_type": "fragment"
    }
   },
   "outputs": [],
   "source": [
    "# An encoding of the natural numbers, entirely in the type system\n",
    "# (notice the S and Z classes have no fields!)\n",
    "class Nat: pass\n",
    "class Z(Nat): pass              # The Z type is zero\n",
    "class S(Nat, Generic[N]): pass  # The S<N> type is the successor of some other nat N"
   ]
  },
  {
   "cell_type": "code",
   "execution_count": null,
   "id": "3b954589",
   "metadata": {
    "slideshow": {
     "slide_type": "fragment"
    }
   },
   "outputs": [],
   "source": [
    "# Note: `Two` and `Four` are typedefs for some subtypes of Nat, not \n",
    "# program-level terms with values we can compute on at runtime!\n",
    "Two: type  = S[S[Z]]\n",
    "Four: type = S[S[Two]]"
   ]
  },
  {
   "cell_type": "markdown",
   "id": "3c9552c7",
   "metadata": {
    "slideshow": {
     "slide_type": "slide"
    }
   },
   "source": [
    "The two constructors `nil` and `cons` enforce the invariant that the typelevel value of `N` always conforms to the length of the list.\n",
    "\n",
    "We did this without needing to make the type system more expressive, and the benefits we already get from it remain!"
   ]
  },
  {
   "cell_type": "code",
   "execution_count": null,
   "id": "08e81aad",
   "metadata": {},
   "outputs": [],
   "source": [
    "# Here's our vector of N elements, all of type T.\n",
    "@dataclass\n",
    "class Vec(Generic[N,T]):\n",
    "    l: list[T]\n",
    "        \n",
    "def nil() -> Vec[Z, T]: return Vec([])\n",
    "def cons(t: T, l: Vec[N, T]) -> Vec[S[N], T]: return Vec([t] + l.l)\n",
    "\n",
    "# The type system knows the lengths of these lists!\n",
    "empty: Vec[Z, int] = nil()\n",
    "one_three:  Vec[Two, int] = cons(1, cons(3, nil()))"
   ]
  },
  {
   "cell_type": "markdown",
   "id": "28eeb9e0",
   "metadata": {
    "slideshow": {
     "slide_type": "slide"
    }
   },
   "source": [
    "```python\n",
    "def avg(l: Vec[S[N], int]) -> int:\n",
    "    \"\"\" Produces the average of a vector of ints, whose length\n",
    "    is the successor of some natural number (i.e. greater than 0!)\"\"\"\n",
    "    return sum(l.l) // len(l.l)\n",
    "\n",
    "avg(42)    # E: \"Literal[42]\" is incompatible with \"Vec[S[N@avg], int]\"\n",
    "avg(nil()) # E: TypeVar \"N@Vec\" is covariant; \"Z\" is incompatible with \"S[N@avg]\"\n",
    "avg(cons(1, nil())) # ok, as we'd hope\n",
    "```"
   ]
  },
  {
   "cell_type": "markdown",
   "id": "494ba305",
   "metadata": {
    "slideshow": {
     "slide_type": "fragment"
    }
   },
   "source": [
    "✓ This implementation of `avg` statically rejects the empty list!  This was the point of the exercise."
   ]
  },
  {
   "cell_type": "markdown",
   "id": "7608cd9e",
   "metadata": {
    "slideshow": {
     "slide_type": "fragment"
    }
   },
   "source": [
    "✓ All the existing benefits of our existing type system (soundness, automation, subtyping, termination) apply here, because we haven't made the metatheory more complicated"
   ]
  },
  {
   "cell_type": "markdown",
   "id": "364352f3",
   "metadata": {
    "slideshow": {
     "slide_type": "fragment"
    }
   },
   "source": [
    "✗ However, counterproofs are opaque and difficulty to map back to the original program error."
   ]
  },
  {
   "cell_type": "markdown",
   "id": "9a04d948",
   "metadata": {
    "slideshow": {
     "slide_type": "slide"
    }
   },
   "source": [
    "## Non-solution 2: enrich the proof system; keep the List type\n",
    "\n",
    "Previously, `Vec[N,T]` took two type-level arguments.  We could not parameterize it on a program term of type `int` (if we could, we could have avoided redefining the natural numbers in the type system.)\n",
    "\n",
    "A type system that _does_ allow this is called a _dependent type system_.  \n",
    "\n",
    "```haskell\n",
    "constant vec : Type u → ℕ → Type u\n",
    "\n",
    "-- notice that we can write 0 and (n + 1) directly! \n",
    "constant empty : Π α : Type u, vec α 0\n",
    "constant cons :\n",
    "  Π (α : Type u) (n : ℕ), α → vec α n → vec α (n + 1)\n",
    "```\n",
    "\n",
    "TODO: they are awesome except enjoy writing the proofs"
   ]
  },
  {
   "cell_type": "markdown",
   "id": "0c07468e",
   "metadata": {
    "slideshow": {
     "slide_type": "slide"
    }
   },
   "source": [
    "## Non-solution 3: just use a model checker\n",
    "\n",
    "\"At no point is `avg()` passed the empty list\" is a temporal safety property; any number of off-the-shelf tools (SLAM, BLAST, Houdini, etc...) or techniques from class could be leveraged here.  \n",
    "\n"
   ]
  },
  {
   "cell_type": "markdown",
   "id": "fece4282",
   "metadata": {
    "slideshow": {
     "slide_type": "fragment"
    }
   },
   "source": [
    "✓ We've seen that model checking techniques are sound, push-button in their automation, and can scale to non-trivial problems, just like a good typechecker.\n"
   ]
  },
  {
   "cell_type": "markdown",
   "id": "9ae933f6",
   "metadata": {
    "slideshow": {
     "slide_type": "fragment"
    }
   },
   "source": [
    "✓ Since model checking explores program states, it's sensitive to program control flow, leading to a more precise abstraction than a type-based approach."
   ]
  },
  {
   "cell_type": "markdown",
   "id": "0e1c647f",
   "metadata": {
    "slideshow": {
     "slide_type": "fragment"
    }
   },
   "source": [
    "✗ However... as we saw from other presentations, reasoning about inductive data structures (lists, trees, etc...) typically requires quantifiers and/or custom logics.  With types, quantifications are handled via polymorphism and recursive definitions pose no difficulty."
   ]
  },
  {
   "cell_type": "markdown",
   "id": "b2415547",
   "metadata": {
    "slideshow": {
     "slide_type": "slide"
    }
   },
   "source": [
    "## Unifying the non-solutions with _liquid types_\n",
    "\n",
    "A _refinement type_ pairs an ordinary type (the _base type_) with a _refining predicate_:\n",
    "\n",
    "\\begin{equation}\n",
    "\\{v: int\\; | \\; 0 \\leq v\\; ∧\\; v < n\\} \n",
    "\\end{equation}\n",
    "\n",
    "This particular type refines its inhabitants to be between 0 and some in-scope program variable `n`.  `n` is a term, so a refinement type is a dependent type, too!  \n",
    "\n",
    "$v$ is the distinguished _value variable_, referring to whatever term the type is typing."
   ]
  },
  {
   "cell_type": "markdown",
   "id": "cf62dd92",
   "metadata": {
    "slideshow": {
     "slide_type": "slide"
    }
   },
   "source": [
    "### If predicates are drawn from _SMT-decidable theories_, then we have a _logically-qualified (LiQuid) type system_."
   ]
  },
  {
   "cell_type": "markdown",
   "id": "2b695195",
   "metadata": {
    "slideshow": {
     "slide_type": "fragment"
    }
   },
   "source": [
    "```python\n",
    "@solvent.check\n",
    "def avg(xs: {len(V) > 0}) -> int\n",
    "    return sum(xs) // len(xs)\n",
    "avg(42) # Type-checking error\n",
    "avg([]) # Type-checking error\n",
    "```\n",
    "\n",
    "In this talk, we will eludcidate the liquid type technique by way of our implementation of liquid types for Python (See https://github.com/dijkstracula/solvent)"
   ]
  },
  {
   "cell_type": "markdown",
   "id": "6e569938",
   "metadata": {
    "slideshow": {
     "slide_type": "slide"
    }
   },
   "source": [
    "Two classes of type meta-algorithms:\n",
    "\n",
    "* Type _checking_: Verifies that a program fragment _annotated_ with types is consistent within the theory\n",
    "* Type _reconstruction_: Given a program fragment _unannotated_ with types, infer a consistent set of types\n",
    "  * generally the harder problem since it requires coming up with a consistent type, not just verifying it\n",
    "\n",
    "Naturally, reconstruction is the problem this paper is interested in, setting the bar high!"
   ]
  },
  {
   "cell_type": "markdown",
   "id": "ede12727",
   "metadata": {
    "slideshow": {
     "slide_type": "slide"
    }
   },
   "source": [
    "## Reconstruction of a liquid type...\n",
    "\n",
    "\\begin{equation}\n",
    "\\{v: \\text{<base type>} \\;|\\; \\text{<predicate>} \\wedge \\text{<predicate>} \\wedge \\text{...} \\} \n",
    "\\end{equation}\n",
    "    \n",
    "Involves decomposing the problem into reconstructing the base type and the refinements: for each term to be typed, we perform:\n",
    "    \n",
    "1) Base type inference, using the venerable Hindley-Milner algorithm;\n",
    "2) Liquid constraint generation, capturing subtyping relationships that must be satisfied;\n",
    "3) Liquid constraint solving, finding a \"good\" conjunction of predicates that satisifies the constraints.\n",
    "    \n",
    "The key insight of the paper comes up at step 3!"
   ]
  },
  {
   "cell_type": "markdown",
   "id": "9c92267c",
   "metadata": {
    "slideshow": {
     "slide_type": "slide"
    }
   },
   "source": [
    "## Which base type to reconstruct?\n",
    "\n",
    "TODO: have a solvent decorator that stops at H-M constraint generation, and after unification/base type gen.  "
   ]
  },
  {
   "cell_type": "code",
   "execution_count": 5,
   "id": "2e3a5c26",
   "metadata": {},
   "outputs": [
    {
     "name": "stdout",
     "output_type": "stream",
     "text": [
      "Constraints:    bool = bool; '9 = '10; '9 = int; '10 = int\n",
      "Ununified type: ('9, '10) -> '9\n"
     ]
    }
   ],
   "source": [
    "from solvent.frontend import *\n",
    "\n",
    "@infer_base_constraints\n",
    "#@infer_base\n",
    "def max(x, y):\n",
    "    if x > y:\n",
    "        return x\n",
    "    else:\n",
    "        return y"
   ]
  },
  {
   "cell_type": "markdown",
   "id": "113c589f",
   "metadata": {
    "slideshow": {
     "slide_type": "slide"
    }
   },
   "source": [
    "## Which logical constraints to reconstruct?\n",
    "\n",
    "```python\n",
    "def max(x: int, y: int) -> int:\n",
    "    if x > y:\n",
    "        return x\n",
    "    else:\n",
    "        return y\n",
    "```\n",
    "\n",
    "Now that we have our base types figured out, what logical facts can we say about each particular int in this program?\n",
    "\n",
    "TODO: It'd be nice, for expository purposes, to say something like \"in H-M we begin by coming up with constraint variables for all the terms, and look we begin by doing the same thing again here\" "
   ]
  },
  {
   "cell_type": "markdown",
   "id": "946df246",
   "metadata": {
    "slideshow": {
     "slide_type": "slide"
    }
   },
   "source": [
    "## Which refinement predicate to reconstruct?\n",
    "\n",
    "```python\n",
    "def max(x: int, y: int) -> { V: int | TODO: erm...what predicate should be chosen }\n",
    "    if x > y:\n",
    "        return x\n",
    "    else:\n",
    "        return y\n",
    "print(max(42, 99))\n",
    "```"
   ]
  },
  {
   "cell_type": "markdown",
   "id": "c85108f3",
   "metadata": {
    "slideshow": {
     "slide_type": "fragment"
    }
   },
   "source": [
    "\\begin{equation}\n",
    "\\{v: int \\;|\\; true\\}  \\text{...probably too underspecified!}\n",
    "\\end{equation} "
   ]
  },
  {
   "cell_type": "markdown",
   "id": "1b1b70e9",
   "metadata": {
    "slideshow": {
     "slide_type": "fragment"
    }
   },
   "source": [
    "\\begin{equation}\n",
    "\\begin{split}\n",
    "\\{v: int \\;|\\; v >= x\\; \\wedge \\; v >= y\\}\\; & \\text{...seems like a good choice!} \\\\\n",
    "\\{v: int \\;|\\; v = x\\; \\vee \\; v = y\\}\\; & \\text{...overfits a bit!}\n",
    "\\end{split}\n",
    "\\end{equation}"
   ]
  },
  {
   "cell_type": "markdown",
   "id": "22c5d6af",
   "metadata": {
    "slideshow": {
     "slide_type": "fragment"
    }
   },
   "source": [
    "\\begin{equation}\n",
    "\\{v: int \\;|\\; v = 99\\} \\text{... certainly way too overspecified!}\n",
    "\\end{equation}"
   ]
  },
  {
   "cell_type": "markdown",
   "id": "892d42fb",
   "metadata": {
    "slideshow": {
     "slide_type": "slide"
    }
   },
   "source": [
    "## Drawing from a fixed set of qualifiers\n",
    "\n",
    "Because there are any number of possible qualifiers, a liquid type system _fixes_ a \"basis set\" of logical qualifiers patterns that predicates can be generated from.  The paper's worked examples requires only a small subset of the full set:\n",
    "\n",
    "\\begin{equation}\n",
    "\\begin{split}\n",
    "0 & \\leq v & \\\\\n",
    "\\star & \\leq v   \\; & \\text{for $\\star$ : int}     \\\\\n",
    "v & \\lt \\star     \\; & \\text{for $\\star$ : int}    \\\\\n",
    "v & \\lt len(\\star) \\; & \\text{for $\\star$ : array} \\\\\n",
    "\\end{split}\n",
    "\\end{equation}\n",
    "\n",
    "Recall that $v$ is the distinguished _value variable_, referring to whatever term the type is typing.\n",
    "\n",
    "$\\star$ is a special _placeholder_ that well-typed program terms can be substituted in for."
   ]
  },
  {
   "cell_type": "markdown",
   "id": "fc4ce554",
   "metadata": {
    "slideshow": {
     "slide_type": "slide"
    }
   },
   "source": [
    "Something _not_ discussed in the paper is that these qualifiers can be overriden by the programmer based on what qualifiers they expect to be useful for their program.  \n",
    "\n",
    "For instance, the liquid type `Vec` implementation comes with an additional set of qualifiers, written by the implementer of the data structure:\n",
    "\n",
    "```ocaml\n",
    "(* a portion of ./postests/vec/len.hquals, simplified *)\n",
    "qualif LVAR(v): len(v) [<, =, >] *\n",
    "qualif LCONST(v): len(v) [<, =, >]  [0, 1]\n",
    "qualif SETAPPEND(v): len(v) = (len(v) > * ? len(v) : * + 1)\n",
    "qualif LSUM(v) : len(v) = [0, 1] + len( * ) + len( * )\n",
    "qualif TOARR(v): len( * ) = Array.length v\n",
    "```\n"
   ]
  },
  {
   "cell_type": "markdown",
   "id": "d40d8691",
   "metadata": {
    "slideshow": {
     "slide_type": "fragment"
    }
   },
   "source": [
    "* both the type system implementer, and the application programmer, can _bias_ the inferred types.  \n",
    "* Because the set of qualifiers is always finite, we have constraint generation termination guarantees."
   ]
  },
  {
   "cell_type": "code",
   "execution_count": null,
   "id": "59fabfdc",
   "metadata": {},
   "outputs": [],
   "source": []
  }
 ],
 "metadata": {
  "celltoolbar": "Slideshow",
  "kernelspec": {
   "display_name": "Python 3 (ipykernel)",
   "language": "python",
   "name": "python3"
  },
  "language_info": {
   "codemirror_mode": {
    "name": "ipython",
    "version": 3
   },
   "file_extension": ".py",
   "mimetype": "text/x-python",
   "name": "python",
   "nbconvert_exporter": "python",
   "pygments_lexer": "ipython3",
   "version": "3.11.2"
  }
 },
 "nbformat": 4,
 "nbformat_minor": 5
}
